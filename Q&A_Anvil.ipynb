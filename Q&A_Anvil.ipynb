{
 "cells": [
  {
   "cell_type": "markdown",
   "id": "9a1ec47e-b6dc-4732-b288-257c1873e0f9",
   "metadata": {},
   "source": [
    "# Dependencies"
   ]
  },
  {
   "cell_type": "code",
   "execution_count": 2,
   "id": "6da00af4-8a0b-415a-873e-81ab784c04b0",
   "metadata": {},
   "outputs": [
    {
     "name": "stdout",
     "output_type": "stream",
     "text": [
      "Looking in indexes: https://download.pytorch.org/whl/cu118\n",
      "Collecting torch\n",
      "  Using cached https://download.pytorch.org/whl/cu118/torch-2.3.1%2Bcu118-cp312-cp312-win_amd64.whl (2672.9 MB)\n",
      "Collecting torchvision\n",
      "  Using cached https://download.pytorch.org/whl/cu118/torchvision-0.18.1%2Bcu118-cp312-cp312-win_amd64.whl (4.9 MB)\n",
      "Collecting torchaudio\n",
      "  Using cached https://download.pytorch.org/whl/cu118/torchaudio-2.3.1%2Bcu118-cp312-cp312-win_amd64.whl (4.0 MB)\n",
      "Requirement already satisfied: filelock in e:\\users\\akshaya\\anaconda3\\lib\\site-packages (from torch) (3.13.1)\n",
      "Requirement already satisfied: typing-extensions>=4.8.0 in e:\\users\\akshaya\\anaconda3\\lib\\site-packages (from torch) (4.11.0)\n",
      "Requirement already satisfied: sympy in e:\\users\\akshaya\\anaconda3\\lib\\site-packages (from torch) (1.12)\n",
      "Requirement already satisfied: networkx in e:\\users\\akshaya\\anaconda3\\lib\\site-packages (from torch) (3.2.1)\n",
      "Requirement already satisfied: jinja2 in e:\\users\\akshaya\\anaconda3\\lib\\site-packages (from torch) (3.1.4)\n",
      "Requirement already satisfied: fsspec in e:\\users\\akshaya\\anaconda3\\lib\\site-packages (from torch) (2024.3.1)\n",
      "Collecting mkl<=2021.4.0,>=2021.1.1 (from torch)\n",
      "  Using cached https://download.pytorch.org/whl/mkl-2021.4.0-py2.py3-none-win_amd64.whl (228.5 MB)\n",
      "Requirement already satisfied: numpy in e:\\users\\akshaya\\anaconda3\\lib\\site-packages (from torchvision) (1.26.4)\n",
      "Requirement already satisfied: pillow!=8.3.*,>=5.3.0 in e:\\users\\akshaya\\anaconda3\\lib\\site-packages (from torchvision) (10.3.0)\n",
      "Collecting intel-openmp==2021.* (from mkl<=2021.4.0,>=2021.1.1->torch)\n",
      "  Using cached https://download.pytorch.org/whl/intel_openmp-2021.4.0-py2.py3-none-win_amd64.whl (3.5 MB)\n",
      "Collecting tbb==2021.* (from mkl<=2021.4.0,>=2021.1.1->torch)\n",
      "  Using cached https://download.pytorch.org/whl/tbb-2021.11.0-py3-none-win_amd64.whl (298 kB)\n",
      "Requirement already satisfied: MarkupSafe>=2.0 in e:\\users\\akshaya\\anaconda3\\lib\\site-packages (from jinja2->torch) (2.1.3)\n",
      "Requirement already satisfied: mpmath>=0.19 in e:\\users\\akshaya\\anaconda3\\lib\\site-packages (from sympy->torch) (1.3.0)\n",
      "Installing collected packages: tbb, intel-openmp, mkl, torch, torchvision, torchaudio\n",
      "Successfully installed intel-openmp-2021.4.0 mkl-2021.4.0 tbb-2021.11.0 torch-2.3.1+cu118 torchaudio-2.3.1+cu118 torchvision-0.18.1+cu118\n"
     ]
    }
   ],
   "source": [
    "!pip install torch torchvision torchaudio --index-url https://download.pytorch.org/whl/cu118"
   ]
  },
  {
   "cell_type": "code",
   "execution_count": 3,
   "id": "68813850-cfee-4c17-bb4e-8c0ff117fe10",
   "metadata": {},
   "outputs": [
    {
     "name": "stdout",
     "output_type": "stream",
     "text": [
      "Collecting transformers\n",
      "  Using cached transformers-4.42.3-py3-none-any.whl.metadata (43 kB)\n",
      "Requirement already satisfied: filelock in e:\\users\\akshaya\\anaconda3\\lib\\site-packages (from transformers) (3.13.1)\n",
      "Collecting huggingface-hub<1.0,>=0.23.2 (from transformers)\n",
      "  Using cached huggingface_hub-0.23.4-py3-none-any.whl.metadata (12 kB)\n",
      "Requirement already satisfied: numpy<2.0,>=1.17 in e:\\users\\akshaya\\anaconda3\\lib\\site-packages (from transformers) (1.26.4)\n",
      "Requirement already satisfied: packaging>=20.0 in e:\\users\\akshaya\\anaconda3\\lib\\site-packages (from transformers) (23.2)\n",
      "Requirement already satisfied: pyyaml>=5.1 in e:\\users\\akshaya\\anaconda3\\lib\\site-packages (from transformers) (6.0.1)\n",
      "Requirement already satisfied: regex!=2019.12.17 in e:\\users\\akshaya\\anaconda3\\lib\\site-packages (from transformers) (2023.10.3)\n",
      "Requirement already satisfied: requests in e:\\users\\akshaya\\anaconda3\\lib\\site-packages (from transformers) (2.32.2)\n",
      "Collecting safetensors>=0.4.1 (from transformers)\n",
      "  Using cached safetensors-0.4.3-cp312-none-win_amd64.whl.metadata (3.9 kB)\n",
      "Collecting tokenizers<0.20,>=0.19 (from transformers)\n",
      "  Using cached tokenizers-0.19.1-cp312-none-win_amd64.whl.metadata (6.9 kB)\n",
      "Requirement already satisfied: tqdm>=4.27 in e:\\users\\akshaya\\anaconda3\\lib\\site-packages (from transformers) (4.66.4)\n",
      "Requirement already satisfied: fsspec>=2023.5.0 in e:\\users\\akshaya\\anaconda3\\lib\\site-packages (from huggingface-hub<1.0,>=0.23.2->transformers) (2024.3.1)\n",
      "Requirement already satisfied: typing-extensions>=3.7.4.3 in e:\\users\\akshaya\\anaconda3\\lib\\site-packages (from huggingface-hub<1.0,>=0.23.2->transformers) (4.11.0)\n",
      "Requirement already satisfied: colorama in e:\\users\\akshaya\\anaconda3\\lib\\site-packages (from tqdm>=4.27->transformers) (0.4.6)\n",
      "Requirement already satisfied: charset-normalizer<4,>=2 in e:\\users\\akshaya\\anaconda3\\lib\\site-packages (from requests->transformers) (2.0.4)\n",
      "Requirement already satisfied: idna<4,>=2.5 in e:\\users\\akshaya\\anaconda3\\lib\\site-packages (from requests->transformers) (3.7)\n",
      "Requirement already satisfied: urllib3<3,>=1.21.1 in e:\\users\\akshaya\\anaconda3\\lib\\site-packages (from requests->transformers) (2.2.2)\n",
      "Requirement already satisfied: certifi>=2017.4.17 in e:\\users\\akshaya\\anaconda3\\lib\\site-packages (from requests->transformers) (2024.6.2)\n",
      "Using cached transformers-4.42.3-py3-none-any.whl (9.3 MB)\n",
      "Using cached huggingface_hub-0.23.4-py3-none-any.whl (402 kB)\n",
      "Using cached safetensors-0.4.3-cp312-none-win_amd64.whl (289 kB)\n",
      "Using cached tokenizers-0.19.1-cp312-none-win_amd64.whl (2.2 MB)\n",
      "Installing collected packages: safetensors, huggingface-hub, tokenizers, transformers\n",
      "Successfully installed huggingface-hub-0.23.4 safetensors-0.4.3 tokenizers-0.19.1 transformers-4.42.3\n"
     ]
    }
   ],
   "source": [
    "!pip install transformers"
   ]
  },
  {
   "cell_type": "code",
   "execution_count": 21,
   "id": "3b8902d8-233c-45a7-a755-9058643cb35e",
   "metadata": {},
   "outputs": [
    {
     "name": "stdout",
     "output_type": "stream",
     "text": [
      "Collecting tf-keras\n",
      "  Using cached tf_keras-2.16.0-py3-none-any.whl.metadata (1.6 kB)\n",
      "Collecting tensorflow<2.17,>=2.16 (from tf-keras)\n",
      "  Using cached tensorflow-2.16.2-cp312-cp312-win_amd64.whl.metadata (3.3 kB)\n",
      "Collecting tensorflow-intel==2.16.2 (from tensorflow<2.17,>=2.16->tf-keras)\n",
      "  Using cached tensorflow_intel-2.16.2-cp312-cp312-win_amd64.whl.metadata (5.0 kB)\n",
      "Collecting absl-py>=1.0.0 (from tensorflow-intel==2.16.2->tensorflow<2.17,>=2.16->tf-keras)\n",
      "  Using cached absl_py-2.1.0-py3-none-any.whl.metadata (2.3 kB)\n",
      "Collecting astunparse>=1.6.0 (from tensorflow-intel==2.16.2->tensorflow<2.17,>=2.16->tf-keras)\n",
      "  Using cached astunparse-1.6.3-py2.py3-none-any.whl.metadata (4.4 kB)\n",
      "Collecting flatbuffers>=23.5.26 (from tensorflow-intel==2.16.2->tensorflow<2.17,>=2.16->tf-keras)\n",
      "  Using cached flatbuffers-24.3.25-py2.py3-none-any.whl.metadata (850 bytes)\n",
      "Collecting gast!=0.5.0,!=0.5.1,!=0.5.2,>=0.2.1 (from tensorflow-intel==2.16.2->tensorflow<2.17,>=2.16->tf-keras)\n",
      "  Downloading gast-0.6.0-py3-none-any.whl.metadata (1.3 kB)\n",
      "Collecting google-pasta>=0.1.1 (from tensorflow-intel==2.16.2->tensorflow<2.17,>=2.16->tf-keras)\n",
      "  Using cached google_pasta-0.2.0-py3-none-any.whl.metadata (814 bytes)\n",
      "Requirement already satisfied: h5py>=3.10.0 in e:\\users\\akshaya\\anaconda3\\lib\\site-packages (from tensorflow-intel==2.16.2->tensorflow<2.17,>=2.16->tf-keras) (3.11.0)\n",
      "Collecting libclang>=13.0.0 (from tensorflow-intel==2.16.2->tensorflow<2.17,>=2.16->tf-keras)\n",
      "  Using cached libclang-18.1.1-py2.py3-none-win_amd64.whl.metadata (5.3 kB)\n",
      "Collecting ml-dtypes~=0.3.1 (from tensorflow-intel==2.16.2->tensorflow<2.17,>=2.16->tf-keras)\n",
      "  Using cached ml_dtypes-0.3.2-cp312-cp312-win_amd64.whl.metadata (20 kB)\n",
      "Collecting opt-einsum>=2.3.2 (from tensorflow-intel==2.16.2->tensorflow<2.17,>=2.16->tf-keras)\n",
      "  Using cached opt_einsum-3.3.0-py3-none-any.whl.metadata (6.5 kB)\n",
      "Requirement already satisfied: packaging in e:\\users\\akshaya\\anaconda3\\lib\\site-packages (from tensorflow-intel==2.16.2->tensorflow<2.17,>=2.16->tf-keras) (23.2)\n",
      "Requirement already satisfied: protobuf!=4.21.0,!=4.21.1,!=4.21.2,!=4.21.3,!=4.21.4,!=4.21.5,<5.0.0dev,>=3.20.3 in e:\\users\\akshaya\\anaconda3\\lib\\site-packages (from tensorflow-intel==2.16.2->tensorflow<2.17,>=2.16->tf-keras) (3.20.3)\n",
      "Requirement already satisfied: requests<3,>=2.21.0 in e:\\users\\akshaya\\anaconda3\\lib\\site-packages (from tensorflow-intel==2.16.2->tensorflow<2.17,>=2.16->tf-keras) (2.32.2)\n",
      "Requirement already satisfied: setuptools in e:\\users\\akshaya\\anaconda3\\lib\\site-packages (from tensorflow-intel==2.16.2->tensorflow<2.17,>=2.16->tf-keras) (69.5.1)\n",
      "Requirement already satisfied: six>=1.12.0 in e:\\users\\akshaya\\anaconda3\\lib\\site-packages (from tensorflow-intel==2.16.2->tensorflow<2.17,>=2.16->tf-keras) (1.16.0)\n",
      "Collecting termcolor>=1.1.0 (from tensorflow-intel==2.16.2->tensorflow<2.17,>=2.16->tf-keras)\n",
      "  Using cached termcolor-2.4.0-py3-none-any.whl.metadata (6.1 kB)\n",
      "Requirement already satisfied: typing-extensions>=3.6.6 in e:\\users\\akshaya\\anaconda3\\lib\\site-packages (from tensorflow-intel==2.16.2->tensorflow<2.17,>=2.16->tf-keras) (4.11.0)\n",
      "Requirement already satisfied: wrapt>=1.11.0 in e:\\users\\akshaya\\anaconda3\\lib\\site-packages (from tensorflow-intel==2.16.2->tensorflow<2.17,>=2.16->tf-keras) (1.14.1)\n",
      "Collecting grpcio<2.0,>=1.24.3 (from tensorflow-intel==2.16.2->tensorflow<2.17,>=2.16->tf-keras)\n",
      "  Using cached grpcio-1.64.1-cp312-cp312-win_amd64.whl.metadata (3.4 kB)\n",
      "Collecting tensorboard<2.17,>=2.16 (from tensorflow-intel==2.16.2->tensorflow<2.17,>=2.16->tf-keras)\n",
      "  Using cached tensorboard-2.16.2-py3-none-any.whl.metadata (1.6 kB)\n",
      "Collecting keras>=3.0.0 (from tensorflow-intel==2.16.2->tensorflow<2.17,>=2.16->tf-keras)\n",
      "  Using cached keras-3.4.1-py3-none-any.whl.metadata (5.8 kB)\n",
      "Requirement already satisfied: numpy<2.0.0,>=1.26.0 in e:\\users\\akshaya\\anaconda3\\lib\\site-packages (from tensorflow-intel==2.16.2->tensorflow<2.17,>=2.16->tf-keras) (1.26.4)\n",
      "Requirement already satisfied: wheel<1.0,>=0.23.0 in e:\\users\\akshaya\\anaconda3\\lib\\site-packages (from astunparse>=1.6.0->tensorflow-intel==2.16.2->tensorflow<2.17,>=2.16->tf-keras) (0.43.0)\n",
      "Requirement already satisfied: rich in e:\\users\\akshaya\\anaconda3\\lib\\site-packages (from keras>=3.0.0->tensorflow-intel==2.16.2->tensorflow<2.17,>=2.16->tf-keras) (13.3.5)\n",
      "Collecting namex (from keras>=3.0.0->tensorflow-intel==2.16.2->tensorflow<2.17,>=2.16->tf-keras)\n",
      "  Using cached namex-0.0.8-py3-none-any.whl.metadata (246 bytes)\n",
      "Collecting optree (from keras>=3.0.0->tensorflow-intel==2.16.2->tensorflow<2.17,>=2.16->tf-keras)\n",
      "  Using cached optree-0.12.1-cp312-cp312-win_amd64.whl.metadata (48 kB)\n",
      "Requirement already satisfied: charset-normalizer<4,>=2 in e:\\users\\akshaya\\anaconda3\\lib\\site-packages (from requests<3,>=2.21.0->tensorflow-intel==2.16.2->tensorflow<2.17,>=2.16->tf-keras) (2.0.4)\n",
      "Requirement already satisfied: idna<4,>=2.5 in e:\\users\\akshaya\\anaconda3\\lib\\site-packages (from requests<3,>=2.21.0->tensorflow-intel==2.16.2->tensorflow<2.17,>=2.16->tf-keras) (3.7)\n",
      "Requirement already satisfied: urllib3<3,>=1.21.1 in e:\\users\\akshaya\\anaconda3\\lib\\site-packages (from requests<3,>=2.21.0->tensorflow-intel==2.16.2->tensorflow<2.17,>=2.16->tf-keras) (2.2.2)\n",
      "Requirement already satisfied: certifi>=2017.4.17 in e:\\users\\akshaya\\anaconda3\\lib\\site-packages (from requests<3,>=2.21.0->tensorflow-intel==2.16.2->tensorflow<2.17,>=2.16->tf-keras) (2024.6.2)\n",
      "Requirement already satisfied: markdown>=2.6.8 in e:\\users\\akshaya\\anaconda3\\lib\\site-packages (from tensorboard<2.17,>=2.16->tensorflow-intel==2.16.2->tensorflow<2.17,>=2.16->tf-keras) (3.4.1)\n",
      "Collecting tensorboard-data-server<0.8.0,>=0.7.0 (from tensorboard<2.17,>=2.16->tensorflow-intel==2.16.2->tensorflow<2.17,>=2.16->tf-keras)\n",
      "  Using cached tensorboard_data_server-0.7.2-py3-none-any.whl.metadata (1.1 kB)\n",
      "Requirement already satisfied: werkzeug>=1.0.1 in e:\\users\\akshaya\\anaconda3\\lib\\site-packages (from tensorboard<2.17,>=2.16->tensorflow-intel==2.16.2->tensorflow<2.17,>=2.16->tf-keras) (3.0.3)\n",
      "Requirement already satisfied: MarkupSafe>=2.1.1 in e:\\users\\akshaya\\anaconda3\\lib\\site-packages (from werkzeug>=1.0.1->tensorboard<2.17,>=2.16->tensorflow-intel==2.16.2->tensorflow<2.17,>=2.16->tf-keras) (2.1.3)\n",
      "Requirement already satisfied: markdown-it-py<3.0.0,>=2.2.0 in e:\\users\\akshaya\\anaconda3\\lib\\site-packages (from rich->keras>=3.0.0->tensorflow-intel==2.16.2->tensorflow<2.17,>=2.16->tf-keras) (2.2.0)\n",
      "Requirement already satisfied: pygments<3.0.0,>=2.13.0 in e:\\users\\akshaya\\anaconda3\\lib\\site-packages (from rich->keras>=3.0.0->tensorflow-intel==2.16.2->tensorflow<2.17,>=2.16->tf-keras) (2.15.1)\n",
      "Requirement already satisfied: mdurl~=0.1 in e:\\users\\akshaya\\anaconda3\\lib\\site-packages (from markdown-it-py<3.0.0,>=2.2.0->rich->keras>=3.0.0->tensorflow-intel==2.16.2->tensorflow<2.17,>=2.16->tf-keras) (0.1.0)\n",
      "Using cached tf_keras-2.16.0-py3-none-any.whl (1.7 MB)\n",
      "Using cached tensorflow-2.16.2-cp312-cp312-win_amd64.whl (2.1 kB)\n",
      "Using cached tensorflow_intel-2.16.2-cp312-cp312-win_amd64.whl (377.1 MB)\n",
      "Using cached absl_py-2.1.0-py3-none-any.whl (133 kB)\n",
      "Using cached astunparse-1.6.3-py2.py3-none-any.whl (12 kB)\n",
      "Using cached flatbuffers-24.3.25-py2.py3-none-any.whl (26 kB)\n",
      "Downloading gast-0.6.0-py3-none-any.whl (21 kB)\n",
      "Using cached google_pasta-0.2.0-py3-none-any.whl (57 kB)\n",
      "Using cached grpcio-1.64.1-cp312-cp312-win_amd64.whl (4.1 MB)\n",
      "Using cached keras-3.4.1-py3-none-any.whl (1.1 MB)\n",
      "Using cached libclang-18.1.1-py2.py3-none-win_amd64.whl (26.4 MB)\n",
      "Using cached ml_dtypes-0.3.2-cp312-cp312-win_amd64.whl (128 kB)\n",
      "Using cached opt_einsum-3.3.0-py3-none-any.whl (65 kB)\n",
      "Using cached tensorboard-2.16.2-py3-none-any.whl (5.5 MB)\n",
      "Using cached termcolor-2.4.0-py3-none-any.whl (7.7 kB)\n",
      "Using cached tensorboard_data_server-0.7.2-py3-none-any.whl (2.4 kB)\n",
      "Using cached namex-0.0.8-py3-none-any.whl (5.8 kB)\n",
      "Using cached optree-0.12.1-cp312-cp312-win_amd64.whl (267 kB)\n",
      "Installing collected packages: namex, libclang, flatbuffers, termcolor, tensorboard-data-server, optree, opt-einsum, ml-dtypes, grpcio, google-pasta, gast, astunparse, absl-py, tensorboard, keras, tensorflow-intel, tensorflow, tf-keras\n",
      "Successfully installed absl-py-2.1.0 astunparse-1.6.3 flatbuffers-24.3.25 gast-0.6.0 google-pasta-0.2.0 grpcio-1.64.1 keras-3.4.1 libclang-18.1.1 ml-dtypes-0.3.2 namex-0.0.8 opt-einsum-3.3.0 optree-0.12.1 tensorboard-2.16.2 tensorboard-data-server-0.7.2 tensorflow-2.16.2 tensorflow-intel-2.16.2 termcolor-2.4.0 tf-keras-2.16.0\n"
     ]
    }
   ],
   "source": [
    "!pip install tf-keras"
   ]
  },
  {
   "cell_type": "markdown",
   "id": "01077790-3416-4d28-abeb-db74aee975e3",
   "metadata": {},
   "source": [
    "# Load The Model"
   ]
  },
  {
   "cell_type": "code",
   "execution_count": 1,
   "id": "33e60cc7-b451-4bef-bbf8-f8070c762b2e",
   "metadata": {},
   "outputs": [
    {
     "name": "stderr",
     "output_type": "stream",
     "text": [
      "E:\\llm\\Lib\\site-packages\\tqdm\\auto.py:21: TqdmWarning: IProgress not found. Please update jupyter and ipywidgets. See https://ipywidgets.readthedocs.io/en/stable/user_install.html\n",
      "  from .autonotebook import tqdm as notebook_tqdm\n"
     ]
    }
   ],
   "source": [
    "from transformers import AutoModelForQuestionAnswering,AutoTokenizer,pipeline"
   ]
  },
  {
   "cell_type": "code",
   "execution_count": 2,
   "id": "bce35892-4724-4c20-9779-64133752a89d",
   "metadata": {},
   "outputs": [],
   "source": [
    "#automodel is the backend model for pipeline helps load roberta\n",
    "#tokenizer token generation\n",
    "#pipeline allows us use roberta"
   ]
  },
  {
   "cell_type": "code",
   "execution_count": 3,
   "id": "caef03f8-4e73-46c4-8d43-d75d8485b94f",
   "metadata": {},
   "outputs": [
    {
     "name": "stdout",
     "output_type": "stream",
     "text": [
      "WARNING:tensorflow:From E:\\llm\\Lib\\site-packages\\tf_keras\\src\\losses.py:2976: The name tf.losses.sparse_softmax_cross_entropy is deprecated. Please use tf.compat.v1.losses.sparse_softmax_cross_entropy instead.\n",
      "\n"
     ]
    },
    {
     "name": "stderr",
     "output_type": "stream",
     "text": [
      "Hardware accelerator e.g. GPU is available in the environment, but no `device` argument is passed to the `Pipeline` object. Model will be on CPU.\n"
     ]
    }
   ],
   "source": [
    "from transformers import AutoModelForQuestionAnswering, AutoTokenizer, pipeline\n",
    "\n",
    "model_name = \"deepset/roberta-base-squad2\"\n",
    "\n",
    "# a) Get predictions\n",
    "nlp = pipeline('question-answering', model=model_name, tokenizer=model_name)\n"
   ]
  },
  {
   "cell_type": "code",
   "execution_count": 4,
   "id": "3d42d267-fed0-4862-8975-9ea802c9c5ee",
   "metadata": {},
   "outputs": [],
   "source": [
    "wikipedia_text=\"\"\"Spider-Man is a superhero in American comic books published by Marvel Comics. Created by writer-editor Stan Lee and artist Steve Ditko, he first appeared in the anthology comic book Amazing Fantasy #15 (August 1962) in the Silver Age of Comic Books. He has been featured in comic books, television shows, films, video games, novels, and plays.\n",
    "\n",
    "Spider-Man's secret identity is Peter Benjamin Parker. Initially, Peter was depicted as a teenage high-school student and an orphan raised by his Aunt May and Uncle Ben in New York City after his parents, Richard and Mary Parker, died in a plane crash. Lee, Ditko, and later creators had the character deal with the struggles of adolescence and young adulthood and gave him many supporting characters, such as Flash Thompson, J. Jonah Jameson, and Harry Osborn; romantic interests Gwen Stacy, Mary Jane Watson, and the Black Cat; and enemies such as Doctor Octopus, the Green Goblin, and Venom. In his origin story, Spider-Man gets his superhuman spider powers and abilities after being bitten by a radioactive spider. These powers include superhuman strength, agility, reflexes, stamina, durability, coordination, and balance; clinging to surfaces and ceilings like a spider; and detecting danger with his precognition ability called \"spider-sense\". He builds wrist-mounted \"web-shooter\" devices that shoot artificial spider-webs of his own design, which he uses both for fighting and web-swinging across the city. Peter Parker Initially used his powers for his personal gain, but after his Uncle Ben was killed by a thief that Peter could not stop, he began to use his powers to fight crime by becoming Spider-Man.\n",
    "\n",
    "When Spider-Man first appeared in the early 1960s, teenagers in superhero comic books were usually relegated to the protagonist's sidekick role. The Spider-Man comic series broke ground by featuring Peter Parker, a high school student from Queens, New York, as Spider-Man's secret identity, whose \"self-obsessions with rejection, inadequacy, and loneliness\" were issues to which young readers could relate.[8] While Spider-Man was a quintessential sidekick, unlike previous teen heroes Bucky Barnes and Robin, Spider-Man had no superhero mentor like Captain America and Batman; he had learned the lesson for himself that \"with great power comes great responsibility\" —a line included in a text box in the final panel of the first Spider-Man's origin story, but later retroactively attributed to the late Uncle Ben Parker.\n",
    "\n",
    "Marvel has featured Spider-Man in several comic book series, the first and longest-lasting of which is The Amazing Spider-Man. Since his introduction, the main-continuity version of Peter has gone from a high school student to attending college to currently being somewhere in his late 20s. Peter has been a member of numerous superhero teams, most notably the Avengers and Fantastic Four. Doctor Octopus also took on the identity for a story arc spanning 2012-2014, following a body swap plot in which Peter appears to die.[9] Marvel has also published comic books featuring alternate versions of Spider-Man, including Spider-Man 2099, which features the adventures of Miguel O'Hara, the Spider-Man of the future; Ultimate Spider-Man, which features the adventures of a teenage Peter Parker in the alternate universe; and Ultimate Comics: Spider-Man, which depicts a teenager named Miles Morales who takes up the mantle of Spider-Man after Ultimate Peter Parker's apparent death. Miles later became a superhero in his own right and was brought into mainstream continuity during the Secret Wars event, where he sometimes works alongside the mainline version of Peter.\n",
    "\n",
    "Spider-Man is one of the most popular and commercially successful superheroes.[10] He has appeared in countless forms of media, including several animated TV series: the first original animated series Spider-Man, with Paul Soles voicing the titular character, a live-action television series, syndicated newspaper comic strips, and multiple series of films. Spider-Man was first portrayed in live-action by Danny Seagren in Spidey Super Stories, a recurring skit on The Electric Company from 1974 to 1977.[11] In live-action films, Spider-Man has been portrayed by actors Tobey Maguire in Sam Raimi's Spider-Man trilogy, by Andrew Garfield in two films directed by Marc Webb,[12] and in the Marvel Cinematic Universe by Tom Holland. Reeve Carney originally starred as Spider-Man in the 2010 Broadway musical Spider-Man: Turn Off the Dark.[13] Spider-Man was also voiced by Jake Johnson and Chris Pine in the animated film Spider-Man: Into the Spider-Verse, with the former reprising his role in the sequel, Spider-Man: Across the Spider-Verse.\"\"\""
   ]
  },
  {
   "cell_type": "code",
   "execution_count": 5,
   "id": "1da0bde5-790f-40b8-9d69-0e2234c4a83b",
   "metadata": {},
   "outputs": [],
   "source": [
    "#question sets\n",
    "question_set={\"question\":\"who created spiderman?\",\n",
    "                \"context\":wikipedia_text\n",
    "             }"
   ]
  },
  {
   "cell_type": "code",
   "execution_count": 6,
   "id": "c11ce52c-a703-4379-8078-155fee12bf39",
   "metadata": {},
   "outputs": [
    {
     "data": {
      "text/plain": [
       "{'score': 0.867989718914032,\n",
       " 'start': 103,\n",
       " 'end': 134,\n",
       " 'answer': 'Stan Lee and artist Steve Ditko'}"
      ]
     },
     "execution_count": 6,
     "metadata": {},
     "output_type": "execute_result"
    }
   ],
   "source": [
    "nlp(question_set)"
   ]
  },
  {
   "cell_type": "code",
   "execution_count": 7,
   "id": "91576bee-1772-4062-85d6-850a6e4f11f6",
   "metadata": {},
   "outputs": [],
   "source": [
    "question_set1={\"question\":\"when was it created spiderman?\",\n",
    "                \"context\":wikipedia_text\n",
    "             }"
   ]
  },
  {
   "cell_type": "code",
   "execution_count": 8,
   "id": "57594247-9a6e-46a9-93d6-39068cf66b85",
   "metadata": {},
   "outputs": [
    {
     "data": {
      "text/plain": [
       "{'score': 0.5703192353248596,\n",
       " 'start': 203,\n",
       " 'end': 214,\n",
       " 'answer': 'August 1962'}"
      ]
     },
     "execution_count": 8,
     "metadata": {},
     "output_type": "execute_result"
    }
   ],
   "source": [
    "nlp(question_set1)"
   ]
  },
  {
   "cell_type": "code",
   "execution_count": 9,
   "id": "2eeae353-819b-417c-b434-09d13bd1bd9e",
   "metadata": {},
   "outputs": [],
   "source": [
    "question_set2={\"question\":\"who is spiderman?\",\n",
    "                \"context\":wikipedia_text\n",
    "             }"
   ]
  },
  {
   "cell_type": "code",
   "execution_count": 10,
   "id": "f08330bc-036e-4108-9278-57b6222415cf",
   "metadata": {},
   "outputs": [
    {
     "data": {
      "text/plain": [
       "{'score': 0.47533538937568665,\n",
       " 'start': 377,\n",
       " 'end': 398,\n",
       " 'answer': 'Peter Benjamin Parker'}"
      ]
     },
     "execution_count": 10,
     "metadata": {},
     "output_type": "execute_result"
    }
   ],
   "source": [
    "nlp(question_set2)"
   ]
  },
  {
   "cell_type": "code",
   "execution_count": 11,
   "id": "cb9ebd7b-68a5-4f10-ab17-562c084ab75e",
   "metadata": {},
   "outputs": [],
   "source": [
    "question_set3={\"question\":\"who is spiderman's enemy?\",\n",
    "                \"context\":wikipedia_text\n",
    "             }"
   ]
  },
  {
   "cell_type": "code",
   "execution_count": 12,
   "id": "f48edb75-1026-4ecc-9254-7cf332e18a78",
   "metadata": {},
   "outputs": [
    {
     "data": {
      "text/plain": [
       "{'score': 0.39149677753448486,\n",
       " 'start': 895,\n",
       " 'end': 938,\n",
       " 'answer': 'Doctor Octopus, the Green Goblin, and Venom'}"
      ]
     },
     "execution_count": 12,
     "metadata": {},
     "output_type": "execute_result"
    }
   ],
   "source": [
    "nlp(question_set3)"
   ]
  },
  {
   "cell_type": "markdown",
   "id": "f2cadb7e-fa99-48c6-a293-40e1ecf11e52",
   "metadata": {},
   "source": [
    "# Connecting to Anvil"
   ]
  },
  {
   "cell_type": "code",
   "execution_count": 28,
   "id": "d1f6aefc-35cf-4d99-9afb-294fc26429cf",
   "metadata": {},
   "outputs": [
    {
     "name": "stdout",
     "output_type": "stream",
     "text": [
      "Collecting anvil-uplink\n",
      "  Using cached anvil_uplink-0.5.1-py2.py3-none-any.whl.metadata (1.5 kB)\n",
      "Collecting argparse (from anvil-uplink)\n",
      "  Using cached argparse-1.4.0-py2.py3-none-any.whl.metadata (2.8 kB)\n",
      "Collecting future (from anvil-uplink)\n",
      "  Using cached future-1.0.0-py3-none-any.whl.metadata (4.0 kB)\n",
      "Requirement already satisfied: six in e:\\llm\\lib\\site-packages (from anvil-uplink) (1.16.0)\n",
      "Collecting ws4py-sslupdate (from anvil-uplink)\n",
      "  Using cached ws4py_sslupdate-0.5.1b0-py2.py3-none-any.whl.metadata (1.7 kB)\n",
      "Using cached anvil_uplink-0.5.1-py2.py3-none-any.whl (95 kB)\n",
      "Using cached argparse-1.4.0-py2.py3-none-any.whl (23 kB)\n",
      "Using cached future-1.0.0-py3-none-any.whl (491 kB)\n",
      "Using cached ws4py_sslupdate-0.5.1b0-py2.py3-none-any.whl (45 kB)\n",
      "Installing collected packages: ws4py-sslupdate, argparse, future, anvil-uplink\n",
      "Successfully installed anvil-uplink-0.5.1 argparse-1.4.0 future-1.0.0 ws4py-sslupdate-0.5.1b0\n",
      "Note: you may need to restart the kernel to use updated packages.\n"
     ]
    },
    {
     "name": "stderr",
     "output_type": "stream",
     "text": [
      "\n",
      "[notice] A new release of pip is available: 24.0 -> 24.1.2\n",
      "[notice] To update, run: E:\\llm\\Scripts\\python.exe -m pip install --upgrade pip\n"
     ]
    }
   ],
   "source": [
    "pip install anvil-uplink"
   ]
  },
  {
   "cell_type": "code",
   "execution_count": 20,
   "id": "63e338eb-b20d-4e60-bb7a-c00cec8652d3",
   "metadata": {},
   "outputs": [
    {
     "name": "stdout",
     "output_type": "stream",
     "text": [
      "Collecting anvil\n",
      "  Downloading anvil-0.0.2-py2.py3-none-any.whl.metadata (1.7 kB)\n",
      "Requirement already satisfied: jinja2>=2.7.3 in e:\\users\\akshaya\\anaconda3\\lib\\site-packages (from anvil) (3.1.4)\n",
      "Requirement already satisfied: pyyaml>=3.11 in e:\\users\\akshaya\\anaconda3\\lib\\site-packages (from anvil) (6.0.1)\n",
      "Requirement already satisfied: MarkupSafe>=2.0 in e:\\users\\akshaya\\anaconda3\\lib\\site-packages (from jinja2>=2.7.3->anvil) (2.1.3)\n",
      "Downloading anvil-0.0.2-py2.py3-none-any.whl (9.1 kB)\n",
      "Installing collected packages: anvil\n",
      "Successfully installed anvil-0.0.2\n"
     ]
    }
   ],
   "source": [
    "!pip install anvil"
   ]
  },
  {
   "cell_type": "code",
   "execution_count": 30,
   "id": "4e406e64-3b9e-46fa-b7ea-19a2bdc0a64f",
   "metadata": {},
   "outputs": [
    {
     "name": "stdout",
     "output_type": "stream",
     "text": [
      "Package                 Version\n",
      "----------------------- ------------\n",
      "absl-py                 2.1.0\n",
      "anvil-uplink            0.5.1\n",
      "asttokens               2.4.1\n",
      "astunparse              1.6.3\n",
      "beautifulsoup4          4.12.3\n",
      "certifi                 2024.7.4\n",
      "charset-normalizer      3.3.2\n",
      "colorama                0.4.6\n",
      "comm                    0.2.2\n",
      "debugpy                 1.8.2\n",
      "decorator               5.1.1\n",
      "executing               2.0.1\n",
      "filelock                3.15.4\n",
      "flatbuffers             24.3.25\n",
      "fsspec                  2024.6.1\n",
      "future                  1.0.0\n",
      "gast                    0.6.0\n",
      "google-pasta            0.2.0\n",
      "grpcio                  1.64.1\n",
      "h5py                    3.11.0\n",
      "huggingface-hub         0.23.4\n",
      "idna                    3.7\n",
      "intel-openmp            2021.4.0\n",
      "ipykernel               6.29.5\n",
      "ipython                 8.26.0\n",
      "jedi                    0.19.1\n",
      "Jinja2                  3.1.4\n",
      "jupyter_client          8.6.2\n",
      "jupyter_core            5.7.2\n",
      "keras                   3.4.1\n",
      "libclang                18.1.1\n",
      "Markdown                3.6\n",
      "markdown-it-py          3.0.0\n",
      "MarkupSafe              2.1.5\n",
      "matplotlib-inline       0.1.7\n",
      "mdurl                   0.1.2\n",
      "mkl                     2021.4.0\n",
      "ml-dtypes               0.3.2\n",
      "mpmath                  1.3.0\n",
      "namex                   0.0.8\n",
      "nest-asyncio            1.6.0\n",
      "networkx                3.3\n",
      "numpy                   1.26.4\n",
      "opt-einsum              3.3.0\n",
      "optree                  0.12.1\n",
      "packaging               24.1\n",
      "pandas                  2.2.2\n",
      "parso                   0.8.4\n",
      "pillow                  10.2.0\n",
      "pip                     24.0\n",
      "platformdirs            4.2.2\n",
      "prompt_toolkit          3.0.47\n",
      "protobuf                4.25.3\n",
      "psutil                  6.0.0\n",
      "pure-eval               0.2.2\n",
      "Pygments                2.18.0\n",
      "python-dateutil         2.9.0.post0\n",
      "pytz                    2024.1\n",
      "pywin32                 306\n",
      "PyYAML                  6.0.1\n",
      "pyzmq                   26.0.3\n",
      "regex                   2024.5.15\n",
      "requests                2.32.3\n",
      "rich                    13.7.1\n",
      "safetensors             0.4.3\n",
      "setuptools              70.2.0\n",
      "six                     1.16.0\n",
      "soupsieve               2.5\n",
      "stack-data              0.6.3\n",
      "sympy                   1.13.0\n",
      "tbb                     2021.13.0\n",
      "tensorboard             2.16.2\n",
      "tensorboard-data-server 0.7.2\n",
      "tensorflow              2.16.2\n",
      "tensorflow-intel        2.16.2\n",
      "termcolor               2.4.0\n",
      "tf_keras                2.16.0\n",
      "tokenizers              0.19.1\n",
      "torch                   2.3.1+cu118\n",
      "torchaudio              2.3.1+cu118\n",
      "torchvision             0.18.1+cu118\n",
      "tornado                 6.4.1\n",
      "tqdm                    4.66.4\n",
      "traitlets               5.14.3\n",
      "transformers            4.42.3\n",
      "typing_extensions       4.12.2\n",
      "tzdata                  2024.1\n",
      "urllib3                 2.2.2\n",
      "wcwidth                 0.2.13\n",
      "Werkzeug                3.0.3\n",
      "wheel                   0.43.0\n",
      "wrapt                   1.16.0\n",
      "ws4py-sslupdate         0.5.1b0\n",
      "Note: you may need to restart the kernel to use updated packages.\n"
     ]
    },
    {
     "name": "stderr",
     "output_type": "stream",
     "text": [
      "\n",
      "[notice] A new release of pip is available: 24.0 -> 24.1.2\n",
      "[notice] To update, run: E:\\llm\\Scripts\\python.exe -m pip install --upgrade pip\n"
     ]
    }
   ],
   "source": [
    "pip list"
   ]
  },
  {
   "cell_type": "code",
   "execution_count": 32,
   "id": "c2dc297c-ee9b-4290-a529-413ad054d153",
   "metadata": {},
   "outputs": [
    {
     "name": "stdout",
     "output_type": "stream",
     "text": [
      "Anvil module imported successfully!\n"
     ]
    }
   ],
   "source": [
    "import anvil.server\n",
    "\n",
    "print(\"Anvil module imported successfully!\")"
   ]
  },
  {
   "cell_type": "code",
   "execution_count": 34,
   "id": "ed2ed757-46d6-489b-957e-61da8d5119c5",
   "metadata": {},
   "outputs": [
    {
     "name": "stdout",
     "output_type": "stream",
     "text": [
      "Connecting to wss://anvil.works/uplink\n",
      "Anvil websocket open\n",
      "Connected to \"Default Environment\" as SERVER\n"
     ]
    },
    {
     "name": "stderr",
     "output_type": "stream",
     "text": [
      "Exception in thread Thread-16 (heartbeat_until_reopened):\n",
      "Traceback (most recent call last):\n",
      "  File \"E:\\llm\\Lib\\site-packages\\anvil\\server.py\", line 411, in call\n",
      "    return _do_call(args, kwargs, fn_name=fn_name)\n",
      "           ^^^^^^^^^^^^^^^^^^^^^^^^^^^^^^^^^^^^^^^\n",
      "  File \"E:\\llm\\Lib\\site-packages\\anvil\\server.py\", line 401, in _do_call\n",
      "    return _threaded_server.do_call(args, kwargs, fn_name=fn_name, live_object=live_object)\n",
      "           ^^^^^^^^^^^^^^^^^^^^^^^^^^^^^^^^^^^^^^^^^^^^^^^^^^^^^^^^^^^^^^^^^^^^^^^^^^^^^^^^\n",
      "  File \"E:\\llm\\Lib\\site-packages\\anvil\\_threaded_server.py\", line 436, in do_call\n",
      "    raise error_from_server\n",
      "anvil._server.AnvilWrappedError: Connection to Anvil Uplink server lost\n",
      "\n",
      "During handling of the above exception, another exception occurred:\n",
      "\n",
      "Traceback (most recent call last):\n",
      "  File \"E:\\Users\\Akshaya\\anaconda3\\Lib\\threading.py\", line 1073, in _bootstrap_inner\n",
      "    self.run()\n",
      "  File \"E:\\llm\\Lib\\site-packages\\ipykernel\\ipkernel.py\", line 766, in run_closure\n",
      "    _threading_Thread_run(self)\n",
      "  File \"E:\\Users\\Akshaya\\anaconda3\\Lib\\threading.py\", line 1010, in run\n",
      "    self._target(*self._args, **self._kwargs)\n",
      "  File \"E:\\llm\\Lib\\site-packages\\anvil\\server.py\", line 210, in heartbeat_until_reopened\n",
      "    call(\"anvil.private.echo\", \"keep-alive\")\n",
      "  File \"E:\\llm\\Lib\\site-packages\\anvil\\server.py\", line 414, in call\n",
      "    raise _server._deserialise_exception(e.error_obj)\n",
      "anvil._server.AnvilWrappedError: Connection to Anvil Uplink server lost\n"
     ]
    },
    {
     "name": "stdout",
     "output_type": "stream",
     "text": [
      "Anvil websocket closed (code 1006, reason=Going away)\n",
      "Reconnecting Anvil Uplink...\n",
      "Connecting to wss://anvil.works/uplink\n",
      "Anvil websocket open\n",
      "Connected to \"Default Environment\" as SERVER\n"
     ]
    }
   ],
   "source": [
    "#connect to our anvil server\n",
    "import anvil.server\n",
    "\n",
    "anvil.server.connect(\"server_U7OY5FW7MHO3BFQIZYDX64NH-CD6PFVVWIV37EHLT\")"
   ]
  },
  {
   "cell_type": "markdown",
   "id": "be213ef2-0a59-45c6-93d6-9e947d5cad63",
   "metadata": {},
   "source": [
    "# Set Up a Callabe Function"
   ]
  },
  {
   "cell_type": "code",
   "execution_count": 37,
   "id": "ff70f20b-ac67-42bd-a5c2-c36eb1ed81ef",
   "metadata": {},
   "outputs": [],
   "source": [
    "#anvil to communicate with our jupyter notebook"
   ]
  },
  {
   "cell_type": "code",
   "execution_count": 65,
   "id": "5222a0d8-e1eb-49b6-b173-098325fb3cba",
   "metadata": {},
   "outputs": [],
   "source": [
    "#tells anvil that this is thecallabe function\n",
    "@anvil.server.callable\n",
    "#fn to be run the nlp\n",
    "def answer_question(question_text,context_text):\n",
    "    #convert to dict\n",
    "    question_set={\n",
    "                \"question\":question_text,\n",
    "                \"context\":context_text\n",
    "             }\n",
    "    #run the nlp pipeline\n",
    "    results=nlp(question_set)\n",
    "    #print(results)\n",
    "    return results['answer']"
   ]
  },
  {
   "cell_type": "code",
   "execution_count": 69,
   "id": "45ac2e55-2386-4a49-91fa-60eaf0113624",
   "metadata": {},
   "outputs": [
    {
     "data": {
      "text/plain": [
       "'Doctor Octopus, the Green Goblin, and Venom'"
      ]
     },
     "execution_count": 69,
     "metadata": {},
     "output_type": "execute_result"
    }
   ],
   "source": [
    "answer_question(\"whos spyderman's enemy?\",wikipedia_text)"
   ]
  },
  {
   "cell_type": "code",
   "execution_count": null,
   "id": "dd3a2d7d-23de-43f7-880e-ee442421a740",
   "metadata": {},
   "outputs": [],
   "source": []
  }
 ],
 "metadata": {
  "kernelspec": {
   "display_name": "LLM_Transformers",
   "language": "python",
   "name": "llm"
  },
  "language_info": {
   "codemirror_mode": {
    "name": "ipython",
    "version": 3
   },
   "file_extension": ".py",
   "mimetype": "text/x-python",
   "name": "python",
   "nbconvert_exporter": "python",
   "pygments_lexer": "ipython3",
   "version": "3.12.4"
  }
 },
 "nbformat": 4,
 "nbformat_minor": 5
}
